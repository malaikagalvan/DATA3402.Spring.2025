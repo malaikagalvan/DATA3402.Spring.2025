{
 "cells": [
  {
   "cell_type": "markdown",
   "metadata": {},
   "source": [
    "## Lab 2- Tic Tac Toe\n",
    "\n",
    "In this lab your will build a n x n Tic Tac Toe game. As you do the exercises, make sure your solutions work for any size Tic Tac Toe game. "
   ]
  },
  {
   "cell_type": "markdown",
   "metadata": {},
   "source": [
    "*Exercise 1:* Write a function that creates an n by n matrix (of list of lists) which will represent the state of a Tie Tac Toe game. Let 0, 1, and 2 represent empty, \"X\", and \"O\", respectively.\n"
   ]
  },
  {
   "cell_type": "code",
   "execution_count": 9,
   "metadata": {},
   "outputs": [],
   "source": [
    "empty=0\n",
    "\"X\"==1\n",
    "\"O\"==2\n",
    "\n",
    "def board(size):\n",
    "    matrix=list()\n",
    "    for i in range(size):\n",
    "        matrix.append([empty]*size)\n",
    "    return matrix"
   ]
  },
  {
   "cell_type": "code",
   "execution_count": 10,
   "metadata": {},
   "outputs": [
    {
     "data": {
      "text/plain": [
       "[[0, 0, 0, 0, 0, 0, 0, 0],\n",
       " [0, 0, 0, 0, 0, 0, 0, 0],\n",
       " [0, 0, 0, 0, 0, 0, 0, 0],\n",
       " [0, 0, 0, 0, 0, 0, 0, 0],\n",
       " [0, 0, 0, 0, 0, 0, 0, 0],\n",
       " [0, 0, 0, 0, 0, 0, 0, 0],\n",
       " [0, 0, 0, 0, 0, 0, 0, 0],\n",
       " [0, 0, 0, 0, 0, 0, 0, 0]]"
      ]
     },
     "execution_count": 10,
     "metadata": {},
     "output_type": "execute_result"
    }
   ],
   "source": [
    "\n",
    "board(size=8)"
   ]
  },
  {
   "cell_type": "markdown",
   "metadata": {},
   "source": [
    "*Exercise 2:* Write a function that takes 2 integers `n` and `m` as input and draws a `n` by `m` game board. For example the following is a 3x3 board:\n",
    "```\n",
    "   --- --- --- \n",
    "  |   |   |   | \n",
    "   --- --- ---  \n",
    "  |   |   |   | \n",
    "   --- --- ---  \n",
    "  |   |   |   | \n",
    "   --- --- --- \n",
    "   ```"
   ]
  },
  {
   "cell_type": "code",
   "execution_count": 170,
   "metadata": {},
   "outputs": [],
   "source": [
    "def game_board():\n",
    "      \n",
    "    n= int(input(\"n value: \"))\n",
    "    m= int(input(\"m value: \"))\n",
    "                 \n",
    "    for i in range(m):\n",
    "        print(\" ---\"*n)\n",
    "        print(\"|   \"*n+\"|\")\n",
    "    print(\" ---\"*n)"
   ]
  },
  {
   "cell_type": "code",
   "execution_count": 171,
   "metadata": {
    "scrolled": true
   },
   "outputs": [
    {
     "name": "stdout",
     "output_type": "stream",
     "text": [
      "n value: 3\n",
      "m value: 3\n",
      " --- --- ---\n",
      "|   |   |   |\n",
      " --- --- ---\n",
      "|   |   |   |\n",
      " --- --- ---\n",
      "|   |   |   |\n",
      " --- --- ---\n"
     ]
    }
   ],
   "source": [
    "game_board()"
   ]
  },
  {
   "cell_type": "markdown",
   "metadata": {},
   "source": [
    "*Exercise 3:* Modify exercise 2, so that it takes a matrix of the form from exercise 1 and draws a tic-tac-tie board with \"X\"s and \"O\"s.  "
   ]
  },
  {
   "cell_type": "code",
   "execution_count": 462,
   "metadata": {},
   "outputs": [],
   "source": [
    "matrix=list()  \n",
    "empty=0 \n",
    "def modify_board(n,m):\n",
    "\n",
    "    for i in range(n):\n",
    "        matrix.append([empty]*m)\n",
    "        print(\"\\n\" +\" ---\"*m, end=\" \")\n",
    "        print(\"\\n|\", end=\"\")\n",
    "        for j in range(m):\n",
    "            if matrix[i][j]==0:\n",
    "                print(\" \", end=\"  |\")\n",
    "            elif matrix[i][j]==1:\n",
    "                print(\"X\", end=\"  |\")\n",
    "            elif matrix[i][j]==2:\n",
    "                print(\"O\", end=\"  |\")\n",
    "      \n",
    "    print(\"\\n\"+ \" ---\"*m)\n",
    "\n"
   ]
  },
  {
   "cell_type": "code",
   "execution_count": 464,
   "metadata": {
    "scrolled": true
   },
   "outputs": [
    {
     "name": "stdout",
     "output_type": "stream",
     "text": [
      "\n",
      " --- --- --- \n",
      "|X  |   |   |\n",
      " --- --- --- \n",
      "|   |O  |   |\n",
      " --- --- --- \n",
      "|   |X  |   |\n",
      " --- --- ---\n"
     ]
    }
   ],
   "source": [
    "#Has to run twice to show X,O,\" \"\n",
    "modify_board(3,3)\n",
    "matrix[0][0]=1\n",
    "matrix[1][1]=2\n",
    "matrix[2][1]=1"
   ]
  },
  {
   "cell_type": "markdown",
   "metadata": {},
   "source": [
    "*Exercise 4:* Write a function that takes a `n` by `n` matrix representing a tic-tac-toe game, and returns -1, 0, 1, or 2 indicating the game is incomplete, the game is a draw, player 1 has won, or player 2 has one, respectively. Here are some example inputs you can use to test your code:"
   ]
  },
  {
   "cell_type": "code",
   "execution_count": 103,
   "metadata": {},
   "outputs": [],
   "source": [
    "##Come back\n",
    "def exercise_four(matrix):\n",
    "    k=len(matrix)\n",
    "    \n",
    "    for row in matrix:\n",
    "        if row.count(1)==k:\n",
    "            return 1\n",
    "        elif row.count(2)==k:\n",
    "            return 2\n",
    "    \n",
    "    for col in range(k):\n",
    "            column=[matrix[row][col] for row in range(k)]\n",
    "            if column.count(1)==k:\n",
    "                return 1\n",
    "            elif column.count(2)==k:\n",
    "                return 2\n",
    "    \n",
    "    \n",
    "    diagnol= [matrix[i][i] for i in range(k)]\n",
    "    if diagnol.count(1)==k:\n",
    "        return 1\n",
    "    elif diagnol.count(2)==k:\n",
    "        return 2\n",
    "    diagnol2=[matrix[i][k-1] for i in range(k)]\n",
    "    if diagnol2.count(1)==k:\n",
    "        return 1\n",
    "    elif diagnol2.count(2)==k:\n",
    "        return 2\n",
    "    \n",
    "    for row in matrix:\n",
    "        if row.count(0)>0:\n",
    "            return -1\n",
    "    \n",
    "    return 0\n",
    "    \n",
    "        "
   ]
  },
  {
   "cell_type": "code",
   "execution_count": 104,
   "metadata": {},
   "outputs": [
    {
     "name": "stdout",
     "output_type": "stream",
     "text": [
      "2\n",
      "1\n",
      "1\n",
      "-1\n",
      "-1\n"
     ]
    }
   ],
   "source": [
    "winner_is_2 = [[2, 2, 0],\n",
    "\t[2, 1, 0],\n",
    "\t[2, 1, 1]]\n",
    "\n",
    "winner_is_1 = [[1, 2, 0],\n",
    "\t[2, 1, 0],\n",
    "\t[2, 1, 1]]\n",
    "\n",
    "winner_is_also_1 = [[0, 1, 0],\n",
    "\t[2, 1, 0],\n",
    "\t[2, 1, 1]]\n",
    "\n",
    "no_winner = [[1, 2, 0],\n",
    "\t[2, 1, 0],\n",
    "\t[2, 1, 2]]\n",
    "\n",
    "also_no_winner = [[1, 2, 0],\n",
    "\t[2, 1, 0],\n",
    "\t[2, 1, 0]]\n",
    "print(exercise_four(winner_is_2))\n",
    "print(exercise_four(winner_is_1))\n",
    "print(exercise_four(winner_is_also_1))\n",
    "print(exercise_four(no_winner))\n",
    "print(exercise_four(also_no_winner))\n"
   ]
  },
  {
   "cell_type": "code",
   "execution_count": null,
   "metadata": {
    "collapsed": true
   },
   "outputs": [],
   "source": [
    "winner_is_2 = [[2, 2, 0],\n",
    "\t[2, 1, 0],\n",
    "\t[2, 1, 1]]\n",
    "\n",
    "winner_is_1 = [[1, 2, 0],\n",
    "\t[2, 1, 0],\n",
    "\t[2, 1, 1]]\n",
    "\n",
    "winner_is_also_1 = [[0, 1, 0],\n",
    "\t[2, 1, 0],\n",
    "\t[2, 1, 1]]\n",
    "\n",
    "no_winner = [[1, 2, 0],\n",
    "\t[2, 1, 0],\n",
    "\t[2, 1, 2]]\n",
    "\n",
    "also_no_winner = [[1, 2, 0],\n",
    "\t[2, 1, 0],\n",
    "\t[2, 1, 0]]"
   ]
  },
  {
   "cell_type": "markdown",
   "metadata": {},
   "source": [
    "*Exercise 5:* Write a function that takes a game board, player number, and `(x,y)` coordinates and places \"X\" or \"O\" in the correct location of the game board. Make sure that you only allow filling previously empty locations. Return `True` or `False` to indicate successful placement of \"X\" or \"O\"."
   ]
  },
  {
   "cell_type": "code",
   "execution_count": 603,
   "metadata": {},
   "outputs": [],
   "source": [
    "def exercise_five(board, player_number, x,y):\n",
    "    \n",
    "    if (x >=len(board) or x<0) or (y >=len(board) or y<0):\n",
    "        return False\n",
    "    \n",
    "    if player_number==1:\n",
    "        board[x][y]=\"X\"\n",
    "        return True\n",
    "    elif player_number==2:\n",
    "        board[x][y]=\"O\"\n",
    "        return True\n",
    "    else:\n",
    "        return False\n",
    "    \n",
    "    for i in board:\n",
    "        print(i)"
   ]
  },
  {
   "cell_type": "code",
   "execution_count": 611,
   "metadata": {},
   "outputs": [
    {
     "name": "stdout",
     "output_type": "stream",
     "text": [
      "True\n",
      "True\n",
      "True\n",
      "[[0, 'X', 0], [0, 0, 'X'], [0, 0, 'O']]\n"
     ]
    }
   ],
   "source": [
    "board=[[0, 0, 0],\n",
    "\t[0, 0, 0],\n",
    "\t[0, 0, 0]]\n",
    "\n",
    "print(exercise_five(board,2,2,2))\n",
    "print(exercise_five(board,1,1,2))\n",
    "print(exercise_five(board,1,0,1))\n",
    "print(board)"
   ]
  },
  {
   "cell_type": "markdown",
   "metadata": {},
   "source": [
    "*Exercise 6:* Modify Exercise 3 to show column and row labels so that players can specify location using \"A2\" or \"C1\"."
   ]
  },
  {
   "cell_type": "code",
   "execution_count": 17,
   "metadata": {},
   "outputs": [],
   "source": [
    "\n",
    "matrix=list()  \n",
    "empty=0 \n",
    "def modify_board(n,m,location,players):\n",
    "    row_names=list(\"ABCDEFGHIJKLMNOPQRSTUVWXYZ\")\n",
    "    column_names=list(map(str,range(1,m+1)))   \n",
    "    row_map=dict(zip(row_names,range(n)))\n",
    "    column_map=dict(zip(column_names,range(m)))\n",
    "    print(\" \", end=\" \")\n",
    "    for j in range(m):\n",
    "        print(column_names[j], end=\"   \")\n",
    "    print()\n",
    "    for i in range(n):\n",
    "        matrix.append([empty]*m)\n",
    "        print(\"\\n\" +\" ---\"*m, end=\" \")\n",
    "        print(row_names[i],\"\\n|\", end=\"\")\n",
    "        for j in range(m):\n",
    "            if matrix[i][j]==0:\n",
    "                print(\" \", end=\"  |\")\n",
    "            elif matrix[i][j]==1:\n",
    "                print(\"X\", end=\"  |\")\n",
    "            elif matrix[i][j]==2:\n",
    "                print(\"O\", end=\"  |\")  \n",
    "    print(\"\\n\"+ \" ---\"*m) \n",
    "    \n",
    "    row_location=location[0].upper()\n",
    "    column_location=location[1].upper()\n",
    "    \n",
    "    row_index=row_map[row_location]\n",
    "    column_index=column_map[column_location]\n",
    "    \n",
    "    if players==1:\n",
    "        if matrix[row_index][column_index]==0:\n",
    "            matrix[row_index][column_index]=1\n",
    "    if players==2:\n",
    "        if matrix[row_index][column_index]==0:\n",
    "            matrix[row_index][column_index]=2\n",
    "  \n",
    "    "
   ]
  },
  {
   "cell_type": "code",
   "execution_count": 19,
   "metadata": {
    "scrolled": true
   },
   "outputs": [
    {
     "name": "stdout",
     "output_type": "stream",
     "text": [
      "  1   2   3   \n",
      "\n",
      " --- --- --- A \n",
      "|   |   |   |\n",
      " --- --- --- B \n",
      "|X  |   |   |\n",
      " --- --- --- C \n",
      "|   |   |   |\n",
      " --- --- ---\n"
     ]
    }
   ],
   "source": [
    "#Has to run twice to show X,O,\" \"\n",
    "modify_board(3,3,\"B1\",1)\n"
   ]
  },
  {
   "cell_type": "markdown",
   "metadata": {},
   "source": [
    "*Exercise 7:* Write a function that takes a board, player number, and location specified as in exercise 6 and then calls exercise 5 to correctly modify the board.  "
   ]
  },
  {
   "cell_type": "code",
   "execution_count": 3,
   "metadata": {},
   "outputs": [],
   "source": [
    "\n",
    "matrix=list() \n",
    "empty=0 \n",
    "\n",
    "def make_board(n,m):\n",
    "    global matrix\n",
    "    matrix=list()\n",
    "    for i in range(n):\n",
    "        matrix.append([empty]*m)\n",
    "    return matrix\n",
    "\n",
    "def exercise_five(n,m,player_number,x,y):\n",
    "    \n",
    "    if (x >=len(matrix) or x<0) or (y >=len(matrix) or y<0):\n",
    "        return False\n",
    "    \n",
    "    if player_number==1:\n",
    "        matrix[x][y]=\"X\"\n",
    "        return True\n",
    "    elif player_number==2:\n",
    "        matrix[x][y]=\"O\"\n",
    "        return True\n",
    "    else:\n",
    "        return False\n",
    "\n",
    "def modify_board(n,m,location,player_number):\n",
    "    \n",
    "    global matrix\n",
    "    row_names=list(\"ABCDEFGHIJKLMNOPQRSTUVWXYZ\")\n",
    "    column_names=list(map(str,range(1,m+1)))\n",
    "    \n",
    "    row_map=dict(zip(row_names,range(n)))\n",
    "    column_map=dict(zip(column_names,range(m)))\n",
    "\n",
    "    row_location=location[0].upper()\n",
    "    column_location=location[1].upper()\n",
    "    \n",
    "    row_index=row_map[row_location]\n",
    "    column_index=column_map[column_location]\n",
    "    \n",
    "    if row_location not in row_map or column_location not in column_map:\n",
    "        print(\"Invalid location, please try again.\")\n",
    "        return False\n",
    "    \n",
    "    if matrix[row_index][column_index]!=0:\n",
    "        print(\"Spot is taken, please try again.\")\n",
    "        return False\n",
    "    \n",
    "    updated_move=exercise_five(n,m,player_number,row_index,column_index)\n",
    "    \n",
    "    if updated_move:\n",
    "        print(\" \", end=\"\")\n",
    "        for j in range(m):\n",
    "            print(column_names[j], end=\"   \")\n",
    "        print()\n",
    "\n",
    "        for i in range(n):\n",
    "            print(\" ---\"*m, end=\" \")\n",
    "            print(row_names[i],\"\\n|\", end=\"\")\n",
    "            for j in range(m):\n",
    "                if matrix[i][j]==0:\n",
    "                    print(\" \", end=\"  |\")\n",
    "                else:\n",
    "                    print(matrix[i][j],end=\" |\")\n",
    "            print()\n",
    "        print(\" ---\"*m) \n",
    "    return updated_move\n",
    "    "
   ]
  },
  {
   "cell_type": "code",
   "execution_count": 4,
   "metadata": {
    "scrolled": true
   },
   "outputs": [
    {
     "name": "stdout",
     "output_type": "stream",
     "text": [
      " 1   2   3   4   \n",
      " --- --- --- --- A \n",
      "|   |   |   |   |\n",
      " --- --- --- --- B \n",
      "|X |   |   |   |\n",
      " --- --- --- --- C \n",
      "|   |   |   |   |\n",
      " --- --- --- ---\n",
      "True\n",
      " 1   2   3   4   \n",
      " --- --- --- --- A \n",
      "|   |O |   |   |\n",
      " --- --- --- --- B \n",
      "|X |   |   |   |\n",
      " --- --- --- --- C \n",
      "|   |   |   |   |\n",
      " --- --- --- ---\n",
      "True\n"
     ]
    }
   ],
   "source": [
    "make_board(3,4)\n",
    "p1=modify_board(3,4,\"B1\",1)\n",
    "print(p1)\n",
    "p2=modify_board(3,4,\"A2\",2)\n",
    "print(p2)\n"
   ]
  },
  {
   "cell_type": "markdown",
   "metadata": {},
   "source": [
    "*Exercise 8:* Write a function is called with a board and player number, takes input from the player using python's `input`, and modifies the board using your function from exercise 7. Note that you should keep asking for input until you have gotten a valid input that results in a valid move."
   ]
  },
  {
   "cell_type": "code",
   "execution_count": 9,
   "metadata": {},
   "outputs": [],
   "source": [
    "def exercise_eight(board, player_number,n,m):\n",
    "    while True:\n",
    "        location=input(f\"Please enter your move player{player_number}: \")\n",
    "    \n",
    "        if modify_board(n,m,location,player_number):\n",
    "            return\n",
    "        else:\n",
    "            print(\"Invalid move\")"
   ]
  },
  {
   "cell_type": "code",
   "execution_count": 10,
   "metadata": {},
   "outputs": [
    {
     "name": "stdout",
     "output_type": "stream",
     "text": [
      "Please enter your move player1: A1\n",
      " 1   2   3   4   \n",
      " --- --- --- --- A \n",
      "|X |   |   |   |\n",
      " --- --- --- --- B \n",
      "|   |   |   |   |\n",
      " --- --- --- --- C \n",
      "|   |   |   |   |\n",
      " --- --- --- ---\n",
      "Please enter your move player2: A1\n",
      "Spot is taken, please try again.\n",
      "Invalid move\n",
      "Please enter your move player2: B2\n",
      " 1   2   3   4   \n",
      " --- --- --- --- A \n",
      "|X |   |   |   |\n",
      " --- --- --- --- B \n",
      "|   |O |   |   |\n",
      " --- --- --- --- C \n",
      "|   |   |   |   |\n",
      " --- --- --- ---\n"
     ]
    }
   ],
   "source": [
    "make_board(3,4)\n",
    "exercise_eight(matrix,1,3,4)\n",
    "exercise_eight(matrix,2,3,4)"
   ]
  },
  {
   "cell_type": "markdown",
   "metadata": {},
   "source": [
    "*Exercise 9:* Use all of the previous exercises to implement a full tic-tac-toe game, where an appropriate board is drawn, 2 players are repeatedly asked for a location coordinates of where they wish to place a mark, and the game status is checked until a player wins or a draw occurs."
   ]
  },
  {
   "cell_type": "code",
   "execution_count": 4,
   "metadata": {},
   "outputs": [],
   "source": [
    "matrix=list()\n",
    "empty=0\n",
    "\n",
    "def winner(matrix):\n",
    "    k=len(matrix)\n",
    "\n",
    "    for row in matrix:\n",
    "        if row.count(1)==k:\n",
    "            return 1\n",
    "        elif row.count(2)==k:\n",
    "            return 2\n",
    "\n",
    "    for col in range(k):\n",
    "        column=[matrix[row][col] for row in range(k)]\n",
    "        if column.count(1)==k:\n",
    "            return 1\n",
    "        elif column.count(2)==k:\n",
    "            return 2\n",
    "\n",
    "    diagnol= [matrix[i][i] for i in range(k)]\n",
    "    if diagnol.count(1)==k:\n",
    "        return 1\n",
    "    elif diagnol.count(2)==k:\n",
    "        return 2\n",
    "\n",
    "    diagnol2=[matrix[i][k-1-i] for i in range(k)]\n",
    "    if diagnol2.count(1)==k:\n",
    "        return 1\n",
    "    elif diagnol2.count(2)==k:\n",
    "        return 2\n",
    "\n",
    "    for row in matrix:\n",
    "        if row.count(0)>0:\n",
    "            return -1\n",
    "    return 0\n",
    "\n",
    "def make_board(n,m):\n",
    "    global matrix\n",
    "    for i in range(n):\n",
    "        matrix.append([empty]*m)\n",
    "    return matrix\n",
    "\n",
    "def exercise_five(n,m,player_number,x,y):\n",
    "    if (x >=len(matrix) or x<0) or (y >=len(matrix) or y<0):\n",
    "        return False\n",
    "    if player_number==1:\n",
    "        matrix[x][y]=1\n",
    "        return True\n",
    "    elif player_number==2:\n",
    "        matrix[x][y]=2\n",
    "        return True\n",
    "    else:\n",
    "        return False\n",
    "\n",
    "def modify_board(n,m,location,player_number):\n",
    "\n",
    "    global matrix\n",
    "    row_names=list(\"ABCDEFGHIJKLMNOPQRSTUVWXYZ\")\n",
    "    column_names=list(map(str,range(1,m+1)))\n",
    "\n",
    "    row_map=dict(zip(row_names,range(n)))\n",
    "    column_map=dict(zip(column_names,range(m)))\n",
    "\n",
    "    row_location=location[0].upper()\n",
    "    column_location=location[1].upper()\n",
    "\n",
    "    if row_location not in row_map or column_location not in column_map:\n",
    "        print(\"Invalid location, please try again.\")\n",
    "        return False\n",
    "    row_index = row_map[row_location]\n",
    "    column_index = column_map[column_location]\n",
    "\n",
    "    if matrix[row_index][column_index]!=0:\n",
    "        print(\"Spot is taken, please try again.\")\n",
    "        return False\n",
    "\n",
    "    return exercise_five(n,m,player_number,row_index,column_index)\n",
    "\n",
    "def print_board(n,m):\n",
    "    row_names=list(\"ABCDEFGHIJKLMNOPQRSTUVWXYZ\")\n",
    "    column_names=list(map(str,range(1,m+1)))\n",
    "\n",
    "    print(\" \", end=\"\")\n",
    "    for col in column_names:\n",
    "        print(f\"{col}\", end=\"   \")\n",
    "    print()\n",
    "\n",
    "    for i in range(n):\n",
    "        print(\"\\n\"+\" ---\"*m, end=\" \")\n",
    "        print(row_names[i],\"\\n|\", end=\"\")\n",
    "        for j in range(m):\n",
    "            if matrix[i][j] == 0:\n",
    "                print(\" \", end=\"  |\")\n",
    "            elif matrix[i][j] == 1:\n",
    "                print(\"X\", end=\"  |\")\n",
    "            else:\n",
    "                print(\"O\", end=\"  |\")\n",
    "    print(\"\\n\"+\" ---\"*m)\n",
    "\n",
    "def exercise_eight(player_number,n,m):\n",
    "    while True:\n",
    "        location=input(f\"Player {player_number}, please enter your move player: \")\n",
    "        if modify_board(n,m,location,player_number):\n",
    "            print_board(n,m)\n",
    "            return\n",
    "        else:\n",
    "            print(\"Invalid move\")\n",
    "\n",
    "def game_mechanics():\n",
    "\n",
    "    n=int(input(\"Enter an n value for the board: \"))\n",
    "    m=int(input(\"Enter an m value for the board:\"))\n",
    "    make_board(n,m)\n",
    "\n",
    "    player_number=1\n",
    "    print_board(n,m)\n",
    "\n",
    "    while True:\n",
    "        exercise_eight(player_number,n,m)\n",
    "        result=winner(matrix)\n",
    "        if result !=-1:\n",
    "            if result==0:\n",
    "                print(\"Its a tie!\")\n",
    "            else:\n",
    "                print(f\"Player {result} won!\")\n",
    "            break\n",
    "        player_number=3-player_number\n",
    "\n",
    "        "
   ]
  },
  {
   "cell_type": "code",
   "execution_count": 2,
   "metadata": {},
   "outputs": [
    {
     "name": "stdout",
     "output_type": "stream",
     "text": [
      "Enter an n value for the board: 3\n",
      "Enter an m value for the board:3\n",
      " 1   2   3   \n",
      "\n",
      " --- --- --- A \n",
      "|   |   |   |\n",
      " --- --- --- B \n",
      "|   |   |   |\n",
      " --- --- --- C \n",
      "|   |   |   |\n",
      " --- --- ---\n",
      "Player 1, please enter your move player: C1\n",
      " 1   2   3   \n",
      "\n",
      " --- --- --- A \n",
      "|   |   |   |\n",
      " --- --- --- B \n",
      "|   |   |   |\n",
      " --- --- --- C \n",
      "|X  |   |   |\n",
      " --- --- ---\n",
      "Player 2, please enter your move player: b1\n",
      " 1   2   3   \n",
      "\n",
      " --- --- --- A \n",
      "|   |   |   |\n",
      " --- --- --- B \n",
      "|O  |   |   |\n",
      " --- --- --- C \n",
      "|X  |   |   |\n",
      " --- --- ---\n",
      "Player 1, please enter your move player: b2\n",
      " 1   2   3   \n",
      "\n",
      " --- --- --- A \n",
      "|   |   |   |\n",
      " --- --- --- B \n",
      "|O  |X  |   |\n",
      " --- --- --- C \n",
      "|X  |   |   |\n",
      " --- --- ---\n",
      "Player 2, please enter your move player: a2\n",
      " 1   2   3   \n",
      "\n",
      " --- --- --- A \n",
      "|   |O  |   |\n",
      " --- --- --- B \n",
      "|O  |X  |   |\n",
      " --- --- --- C \n",
      "|X  |   |   |\n",
      " --- --- ---\n",
      "Player 1, please enter your move player: a3\n",
      " 1   2   3   \n",
      "\n",
      " --- --- --- A \n",
      "|   |O  |X  |\n",
      " --- --- --- B \n",
      "|O  |X  |   |\n",
      " --- --- --- C \n",
      "|X  |   |   |\n",
      " --- --- ---\n",
      "Player 1 won!\n"
     ]
    }
   ],
   "source": [
    "game_mechanics()"
   ]
  },
  {
   "cell_type": "markdown",
   "metadata": {},
   "source": [
    "*Exercise 10:* Test that your game works for 5x5 Tic Tac Toe.  "
   ]
  },
  {
   "cell_type": "code",
   "execution_count": 5,
   "metadata": {},
   "outputs": [
    {
     "name": "stdout",
     "output_type": "stream",
     "text": [
      "Enter an n value for the board: 5\n",
      "Enter an m value for the board:5\n",
      " 1   2   3   4   5   \n",
      "\n",
      " --- --- --- --- --- A \n",
      "|   |   |   |   |   |\n",
      " --- --- --- --- --- B \n",
      "|   |   |   |   |   |\n",
      " --- --- --- --- --- C \n",
      "|   |   |   |   |   |\n",
      " --- --- --- --- --- D \n",
      "|   |   |   |   |   |\n",
      " --- --- --- --- --- E \n",
      "|   |   |   |   |   |\n",
      " --- --- --- --- ---\n",
      "Player 1, please enter your move player: a2\n",
      " 1   2   3   4   5   \n",
      "\n",
      " --- --- --- --- --- A \n",
      "|   |X  |   |   |   |\n",
      " --- --- --- --- --- B \n",
      "|   |   |   |   |   |\n",
      " --- --- --- --- --- C \n",
      "|   |   |   |   |   |\n",
      " --- --- --- --- --- D \n",
      "|   |   |   |   |   |\n",
      " --- --- --- --- --- E \n",
      "|   |   |   |   |   |\n",
      " --- --- --- --- ---\n",
      "Player 2, please enter your move player: e2\n",
      " 1   2   3   4   5   \n",
      "\n",
      " --- --- --- --- --- A \n",
      "|   |X  |   |   |   |\n",
      " --- --- --- --- --- B \n",
      "|   |   |   |   |   |\n",
      " --- --- --- --- --- C \n",
      "|   |   |   |   |   |\n",
      " --- --- --- --- --- D \n",
      "|   |   |   |   |   |\n",
      " --- --- --- --- --- E \n",
      "|   |O  |   |   |   |\n",
      " --- --- --- --- ---\n",
      "Player 1, please enter your move player: a1\n",
      " 1   2   3   4   5   \n",
      "\n",
      " --- --- --- --- --- A \n",
      "|X  |X  |   |   |   |\n",
      " --- --- --- --- --- B \n",
      "|   |   |   |   |   |\n",
      " --- --- --- --- --- C \n",
      "|   |   |   |   |   |\n",
      " --- --- --- --- --- D \n",
      "|   |   |   |   |   |\n",
      " --- --- --- --- --- E \n",
      "|   |O  |   |   |   |\n",
      " --- --- --- --- ---\n",
      "Player 2, please enter your move player: e3\n",
      " 1   2   3   4   5   \n",
      "\n",
      " --- --- --- --- --- A \n",
      "|X  |X  |   |   |   |\n",
      " --- --- --- --- --- B \n",
      "|   |   |   |   |   |\n",
      " --- --- --- --- --- C \n",
      "|   |   |   |   |   |\n",
      " --- --- --- --- --- D \n",
      "|   |   |   |   |   |\n",
      " --- --- --- --- --- E \n",
      "|   |O  |O  |   |   |\n",
      " --- --- --- --- ---\n",
      "Player 1, please enter your move player: c3\n",
      " 1   2   3   4   5   \n",
      "\n",
      " --- --- --- --- --- A \n",
      "|X  |X  |   |   |   |\n",
      " --- --- --- --- --- B \n",
      "|   |   |   |   |   |\n",
      " --- --- --- --- --- C \n",
      "|   |   |X  |   |   |\n",
      " --- --- --- --- --- D \n",
      "|   |   |   |   |   |\n",
      " --- --- --- --- --- E \n",
      "|   |O  |O  |   |   |\n",
      " --- --- --- --- ---\n",
      "Player 2, please enter your move player: b3\n",
      " 1   2   3   4   5   \n",
      "\n",
      " --- --- --- --- --- A \n",
      "|X  |X  |   |   |   |\n",
      " --- --- --- --- --- B \n",
      "|   |   |O  |   |   |\n",
      " --- --- --- --- --- C \n",
      "|   |   |X  |   |   |\n",
      " --- --- --- --- --- D \n",
      "|   |   |   |   |   |\n",
      " --- --- --- --- --- E \n",
      "|   |O  |O  |   |   |\n",
      " --- --- --- --- ---\n",
      "Player 1, please enter your move player: b2\n",
      " 1   2   3   4   5   \n",
      "\n",
      " --- --- --- --- --- A \n",
      "|X  |X  |   |   |   |\n",
      " --- --- --- --- --- B \n",
      "|   |X  |O  |   |   |\n",
      " --- --- --- --- --- C \n",
      "|   |   |X  |   |   |\n",
      " --- --- --- --- --- D \n",
      "|   |   |   |   |   |\n",
      " --- --- --- --- --- E \n",
      "|   |O  |O  |   |   |\n",
      " --- --- --- --- ---\n",
      "Player 2, please enter your move player: d1\n",
      " 1   2   3   4   5   \n",
      "\n",
      " --- --- --- --- --- A \n",
      "|X  |X  |   |   |   |\n",
      " --- --- --- --- --- B \n",
      "|   |X  |O  |   |   |\n",
      " --- --- --- --- --- C \n",
      "|   |   |X  |   |   |\n",
      " --- --- --- --- --- D \n",
      "|O  |   |   |   |   |\n",
      " --- --- --- --- --- E \n",
      "|   |O  |O  |   |   |\n",
      " --- --- --- --- ---\n",
      "Player 1, please enter your move player: d4\n",
      " 1   2   3   4   5   \n",
      "\n",
      " --- --- --- --- --- A \n",
      "|X  |X  |   |   |   |\n",
      " --- --- --- --- --- B \n",
      "|   |X  |O  |   |   |\n",
      " --- --- --- --- --- C \n",
      "|   |   |X  |   |   |\n",
      " --- --- --- --- --- D \n",
      "|O  |   |   |X  |   |\n",
      " --- --- --- --- --- E \n",
      "|   |O  |O  |   |   |\n",
      " --- --- --- --- ---\n",
      "Player 2, please enter your move player: be\n",
      "Invalid location, please try again.\n",
      "Invalid move\n",
      "Player 2, please enter your move player: b4\n",
      " 1   2   3   4   5   \n",
      "\n",
      " --- --- --- --- --- A \n",
      "|X  |X  |   |   |   |\n",
      " --- --- --- --- --- B \n",
      "|   |X  |O  |O  |   |\n",
      " --- --- --- --- --- C \n",
      "|   |   |X  |   |   |\n",
      " --- --- --- --- --- D \n",
      "|O  |   |   |X  |   |\n",
      " --- --- --- --- --- E \n",
      "|   |O  |O  |   |   |\n",
      " --- --- --- --- ---\n",
      "Player 1, please enter your move player: e5\n",
      " 1   2   3   4   5   \n",
      "\n",
      " --- --- --- --- --- A \n",
      "|X  |X  |   |   |   |\n",
      " --- --- --- --- --- B \n",
      "|   |X  |O  |O  |   |\n",
      " --- --- --- --- --- C \n",
      "|   |   |X  |   |   |\n",
      " --- --- --- --- --- D \n",
      "|O  |   |   |X  |   |\n",
      " --- --- --- --- --- E \n",
      "|   |O  |O  |   |X  |\n",
      " --- --- --- --- ---\n",
      "Player 1 won!\n"
     ]
    }
   ],
   "source": [
    "game_mechanics()"
   ]
  },
  {
   "cell_type": "markdown",
   "metadata": {},
   "source": [
    "*Exercise 11:* (Advanced / Challenge) Develop a version of the game where one player is the computer. Note that you don't need to do an extensive seach for the best move. You can have the computer simply protect against loosing and otherwise try to win with straight or diagonal patterns."
   ]
  },
  {
   "cell_type": "code",
   "execution_count": null,
   "metadata": {
    "collapsed": true
   },
   "outputs": [],
   "source": [
    "# Write you solution here"
   ]
  },
  {
   "cell_type": "code",
   "execution_count": null,
   "metadata": {
    "collapsed": true
   },
   "outputs": [],
   "source": [
    "# Test your solution here"
   ]
  }
 ],
 "metadata": {
  "kernelspec": {
   "display_name": "Python 3 (ipykernel)",
   "language": "python",
   "name": "python3"
  },
  "language_info": {
   "codemirror_mode": {
    "name": "ipython",
    "version": 3
   },
   "file_extension": ".py",
   "mimetype": "text/x-python",
   "name": "python",
   "nbconvert_exporter": "python",
   "pygments_lexer": "ipython3",
   "version": "3.12.3"
  }
 },
 "nbformat": 4,
 "nbformat_minor": 2
}
